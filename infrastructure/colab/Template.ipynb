{
 "cells": [
  {"cell_type": "markdown", "metadata": {}, "source": ["# COOP Colab Template\n","\n","Describe experiment goals and parameters here."]},
  {"cell_type": "code", "execution_count": null, "metadata": {}, "outputs": [], "source": ["#@title Setup environment\n","!nvidia-smi || echo 'No GPU'\n","!python --version\n","# !pip install qdrant-client redis requests\n"]},
  {"cell_type": "code", "execution_count": null, "metadata": {}, "outputs": [], "source": ["#@title Parameters\n","PROJECT = 'okamihczindesign' #@param {type:\"string\"}\n","DATA_PATH = '/content' #@param {type:\"string\"}\n"]},
  {"cell_type": "code", "execution_count": null, "metadata": {}, "outputs": [], "source": ["#@title Experiment\n","print('Run your experiment logic here')\n"]}
 ],
 "metadata": {"kernelspec": {"display_name": "Python 3", "language": "python", "name": "python3"}},
 "nbformat": 4,
 "nbformat_minor": 2
}
